{
 "cells": [
  {
   "cell_type": "code",
   "execution_count": 1,
   "id": "0875cdb3",
   "metadata": {},
   "outputs": [],
   "source": [
    "from PIL import Image"
   ]
  },
  {
   "cell_type": "code",
   "execution_count": 2,
   "id": "ea1d1101",
   "metadata": {},
   "outputs": [],
   "source": [
    "def make_white_transparent(image_path, output_path):\n",
    "    \"\"\"\n",
    "    Makes the white color in a PNG image transparent.\n",
    "\n",
    "    Args:\n",
    "        image_path: Path to the input PNG image.\n",
    "        output_path: Path to save the modified PNG image.\n",
    "    \"\"\"\n",
    "    img = Image.open(image_path).convert(\"RGBA\")\n",
    "    datas = img.getdata()\n",
    "\n",
    "    new_data = []\n",
    "    for item in datas:\n",
    "        if item[0] == 255 and item[1] == 255 and item[2] == 255:\n",
    "            new_data.append((255, 255, 255, 0))  # Make it transparent\n",
    "        else:\n",
    "            new_data.append(item)\n",
    "\n",
    "    img.putdata(new_data)\n",
    "    img.save(output_path, \"PNG\")"
   ]
  },
  {
   "cell_type": "code",
   "execution_count": 3,
   "id": "b8b1d317",
   "metadata": {},
   "outputs": [],
   "source": [
    "# Example usage\n",
    "input_image = \"image/Logo.png\"  # Replace with your image path\n",
    "output_image = \"image/Logo_transparent.png\"\n",
    "make_white_transparent(input_image, output_image)"
   ]
  }
 ],
 "metadata": {
  "kernelspec": {
   "display_name": "Python 3",
   "language": "python",
   "name": "python3"
  },
  "language_info": {
   "codemirror_mode": {
    "name": "ipython",
    "version": 3
   },
   "file_extension": ".py",
   "mimetype": "text/x-python",
   "name": "python",
   "nbconvert_exporter": "python",
   "pygments_lexer": "ipython3",
   "version": "3.10.0"
  }
 },
 "nbformat": 4,
 "nbformat_minor": 5
}
