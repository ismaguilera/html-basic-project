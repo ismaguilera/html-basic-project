{
 "cells": [
  {
   "cell_type": "markdown",
   "id": "ffc3e13f",
   "metadata": {},
   "source": [
    "# Transformar imágenes\n",
    "## Transparencia de imágenes"
   ]
  },
  {
   "cell_type": "code",
   "execution_count": null,
   "id": "0875cdb3",
   "metadata": {},
   "outputs": [],
   "source": [
    "import os\n",
    "import qrcode\n",
    "from PIL import Image, ImageDraw\n",
    "\n",
    "ruta = os.path.dirname(os.getcwd())"
   ]
  },
  {
   "cell_type": "code",
   "execution_count": 16,
   "id": "ea1d1101",
   "metadata": {},
   "outputs": [],
   "source": [
    "def make_white_transparent(image_path, output_path):\n",
    "    \"\"\"\n",
    "    Makes the white color in a PNG image transparent.\n",
    "\n",
    "    Args:\n",
    "        image_path: Path to the input PNG image.\n",
    "        output_path: Path to save the modified PNG image.\n",
    "    \"\"\"\n",
    "    img = Image.open(image_path).convert(\"RGBA\")\n",
    "    datas = img.getdata()\n",
    "\n",
    "    new_data = []\n",
    "    for item in datas:\n",
    "        if item[0] > 250 and item[1] > 250 and item[2] > 250:\n",
    "            new_data.append((255, 255, 255, 0))  # Make it transparent\n",
    "        else:\n",
    "            new_data.append(item)\n",
    "\n",
    "    img.putdata(new_data)\n",
    "    img.save(output_path,format='ICO')"
   ]
  },
  {
   "cell_type": "code",
   "execution_count": null,
   "id": "b8b1d317",
   "metadata": {},
   "outputs": [],
   "source": [
    "input_image = ruta+\"/image/Logo.png\"  # Replace with your image path\n",
    "output_image = ruta+\"/image/Logo_transparent.png\"\n",
    "make_white_transparent(input_image, output_image)"
   ]
  },
  {
   "cell_type": "markdown",
   "id": "e517c1b2",
   "metadata": {},
   "source": [
    "## QR Code with logo"
   ]
  },
  {
   "cell_type": "code",
   "execution_count": 40,
   "id": "3f4d481b",
   "metadata": {},
   "outputs": [],
   "source": [
    "def create_qr_with_logo(data_to_encode, logo_path, output_path=\"qr_with_logo.png\", qr_color=\"black\", bg_color=\"white\", box_size=10, border=4):\n",
    "    \"\"\"\n",
    "    Generates a QR code with a logo embedded in the center.\n",
    "\n",
    "    Args:\n",
    "        data_to_encode (str): The data (e.g., URL, text) to encode in the QR code.\n",
    "        logo_path (str): The file path to the logo image.\n",
    "        output_path (str, optional): The file path to save the generated QR code. Defaults to \"qr_with_logo.png\".\n",
    "        qr_color (str, optional): Color of the QR code modules. Defaults to \"black\".\n",
    "        bg_color (str, optional): Background color of the QR code. Defaults to \"white\".\n",
    "        box_size (int, optional): Controls how many pixels each “box” of the QR code is. Defaults to 10.\n",
    "        border (int, optional): Controls how many boxes thick the border should be (the default is 4, which is the minimum according to the specs).\n",
    "    \"\"\"\n",
    "    try:\n",
    "        # --- Step 1: Generate the QR Code ---\n",
    "        # Configure the QR code\n",
    "        qr = qrcode.QRCode(\n",
    "            version=None,  # Let the library automatically determine the version\n",
    "            error_correction=qrcode.constants.ERROR_CORRECT_H,  # High error correction to accommodate the logo\n",
    "            box_size=box_size,\n",
    "            border=border,\n",
    "        )\n",
    "        qr.add_data(data_to_encode)\n",
    "        qr.make(fit=True)\n",
    "\n",
    "        # Create an image from the QR Code instance\n",
    "        img_qr = qr.make_image(fill_color=qr_color, back_color=bg_color).convert('RGBA')\n",
    "        qr_width, qr_height = img_qr.size\n",
    "\n",
    "        # --- Step 2: Load and Prepare the Logo ---\n",
    "        try:\n",
    "            logo = Image.open(logo_path)\n",
    "        except FileNotFoundError:\n",
    "            print(f\"Error: Logo file not found at {logo_path}\")\n",
    "            return\n",
    "        except Exception as e:\n",
    "            print(f\"Error opening logo file: {e}\")\n",
    "            return\n",
    "\n",
    "        # Calculate the maximum logo size (e.g., 25-30% of the QR code's width)\n",
    "        # This is to ensure the QR code remains scannable\n",
    "        logo_max_size_w = int(qr_width * 0.3)\n",
    "        logo_max_size_h = int(qr_height * 0.3)\n",
    "        logo_max_size = min(logo_max_size_w, logo_max_size_h) # Use the smaller dimension to maintain aspect ratio\n",
    "\n",
    "        # Resize the logo\n",
    "        logo.thumbnail((logo_max_size, logo_max_size), Image.Resampling.LANCZOS) # Use LANCZOS for high-quality downscaling\n",
    "        logo_w, logo_h = logo.size\n",
    "\n",
    "        # --- Step 3: Position and Paste the Logo onto the QR Code ---\n",
    "        # Calculate the position to paste the logo (center of the QR code)\n",
    "        pos_x = (qr_width - logo_w) // 2\n",
    "        pos_y = (qr_height - logo_h) // 2\n",
    "\n",
    "        # Create a mask for the logo if it has transparency\n",
    "        # This helps in pasting the logo smoothly\n",
    "        if logo.mode == 'RGBA':\n",
    "            mask = logo\n",
    "        else:\n",
    "            # If no alpha channel, create a solid mask or convert logo to RGBA\n",
    "            # For simplicity, we'll assume a rectangular logo here.\n",
    "            # For non-rectangular logos without alpha, more advanced masking might be needed.\n",
    "            logo = logo.convert('RGBA')\n",
    "            mask = logo\n",
    "\n",
    "        # Create a white background for the logo area on the QR code\n",
    "        # This helps the logo stand out and can improve scannability if the logo is dark\n",
    "        # The background should be slightly larger than the logo\n",
    "        bg_offset = 2 # Small padding around the logo\n",
    "        bg_draw_pos_x = pos_x - bg_offset\n",
    "        bg_draw_pos_y = pos_y - bg_offset\n",
    "        bg_draw_width = logo_w + (bg_offset * 2)\n",
    "        bg_draw_height = logo_h + (bg_offset * 2)\n",
    "\n",
    "        # Create a drawing object\n",
    "        draw = ImageDraw.Draw(img_qr)\n",
    "        # Draw a white rectangle (or bg_color) behind where the logo will be placed\n",
    "        draw.rectangle(\n",
    "            (bg_draw_pos_x, bg_draw_pos_y, bg_draw_pos_x + bg_draw_width, bg_draw_pos_y + bg_draw_height),\n",
    "            fill=bg_color\n",
    "        )\n",
    "\n",
    "        # Paste the logo onto the QR code\n",
    "        img_qr.paste(logo, (pos_x, pos_y), mask)\n",
    "\n",
    "        # --- Step 4: Save the Final Image ---\n",
    "        img_qr.save(output_path)\n",
    "        print(f\"Successfully created QR code with logo: {output_path}\")\n",
    "\n",
    "    except Exception as e:\n",
    "        print(f\"An error occurred: {e}\")\n"
   ]
  },
  {
   "cell_type": "code",
   "execution_count": 41,
   "id": "a16a8047",
   "metadata": {},
   "outputs": [
    {
     "name": "stdout",
     "output_type": "stream",
     "text": [
      "Successfully created QR code with logo: c:\\Users\\ismaelaguilera\\Documents\\html-basic-project/image/qr_with_logo.png\n"
     ]
    }
   ],
   "source": [
    "my_data = \"https://forms.gle/M9gJBGUCFeE3FPt39\"\n",
    "\n",
    "my_logo_path = ruta+\"/image/Logo_transparent.png\" \n",
    "\n",
    "create_qr_with_logo(\n",
    "    data_to_encode=my_data,\n",
    "    logo_path=my_logo_path,\n",
    "    qr_color=\"#163D40\", # Example: dark blue QR code\n",
    "    # bg_color=\"#3b82f6\" # Example: light yellow background\n",
    "    output_path=ruta+\"/image/qr_with_logo.png\"\n",
    ")"
   ]
  },
  {
   "cell_type": "code",
   "execution_count": 11,
   "id": "9378dc38",
   "metadata": {},
   "outputs": [
    {
     "name": "stdout",
     "output_type": "stream",
     "text": [
      "c:\\Users\\ismaelaguilera\\Documents\\html-basic-project\n"
     ]
    }
   ],
   "source": [
    "import os\n",
    "print(os.path.dirname(os.getcwd()))\n"
   ]
  }
 ],
 "metadata": {
  "kernelspec": {
   "display_name": "Python 3",
   "language": "python",
   "name": "python3"
  },
  "language_info": {
   "codemirror_mode": {
    "name": "ipython",
    "version": 3
   },
   "file_extension": ".py",
   "mimetype": "text/x-python",
   "name": "python",
   "nbconvert_exporter": "python",
   "pygments_lexer": "ipython3",
   "version": "3.10.0"
  }
 },
 "nbformat": 4,
 "nbformat_minor": 5
}
